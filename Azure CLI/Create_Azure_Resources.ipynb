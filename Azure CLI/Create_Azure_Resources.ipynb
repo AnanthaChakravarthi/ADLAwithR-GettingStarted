{
 "cells": [
  {
   "cell_type": "markdown",
   "metadata": {},
   "source": [
    "# Create Azure Resources"
   ]
  },
  {
   "cell_type": "markdown",
   "metadata": {},
   "source": [
    "A prerequisite for this tutorial is that you have an Azure subscription. We will provision a Data Lake Analytiscs Account and a Data Lake Store in your subscription. Additionally we will transfer scripts needed for this tutorial to a folder in your Data Lake Store. "
   ]
  },
  {
   "cell_type": "code",
   "execution_count": 27,
   "metadata": {
    "collapsed": false
   },
   "outputs": [
    {
     "name": "stdout",
     "output_type": "stream",
     "text": [
      "My current working directory is C:\\Users\\gshaheen\\Documents\n"
     ]
    }
   ],
   "source": [
    "import os\n",
    "mycwd = os.getcwd()\n",
    "print('My current working directory is',mycwd)"
   ]
  },
  {
   "cell_type": "code",
   "execution_count": null,
   "metadata": {
    "collapsed": false
   },
   "outputs": [],
   "source": [
    "# Clone the repository\n",
    "!git clone https://github.com/Azure/ADLAwithR-GettingStarted.git"
   ]
  },
  {
   "cell_type": "markdown",
   "metadata": {},
   "source": [
    "**Note**: If you see an error like 'git' is not recognized as an internal or external command,\n",
    "operable program or batch file and you have it installed, you might need to set your PATH to point at your git installation. Read more @ https://stackoverflow.com/questions/4492979/git-is-not-recognized-as-an-internal-or-external-command "
   ]
  },
  {
   "cell_type": "code",
   "execution_count": null,
   "metadata": {
    "collapsed": true
   },
   "outputs": [],
   "source": [
    "# Install Azure CLI\n",
    "!pip install -I azure-cli"
   ]
  },
  {
   "cell_type": "markdown",
   "metadata": {},
   "source": [
    "Login to you azure account"
   ]
  },
  {
   "cell_type": "code",
   "execution_count": null,
   "metadata": {
    "collapsed": true
   },
   "outputs": [],
   "source": [
    "!az login -o table"
   ]
  },
  {
   "cell_type": "code",
   "execution_count": 18,
   "metadata": {
    "collapsed": false
   },
   "outputs": [
    {
     "name": "stdout",
     "output_type": "stream",
     "text": [
      "    \"name\": \"Boston DS Dev\",\n",
      "    \"name\": \"Solution Demos\",\n",
      "    \"name\": \"Team Danielle Internal\",\n",
      "    \"name\": \"Microsoft Azure Internal - Demos\",\n",
      "    \"name\": \"Solutions Production Relics\",\n",
      "    \"name\": \"Boston Engineering\",\n",
      "    \"name\": \"Team TJ\",\n",
      "    \"name\": \"ADLTrainingMS\",\n"
     ]
    }
   ],
   "source": [
    "!az account list | grep name | grep -v '@'"
   ]
  },
  {
   "cell_type": "code",
   "execution_count": null,
   "metadata": {
    "collapsed": true
   },
   "outputs": [],
   "source": [
    "selected_subscription = '\"<YOUR SUBSCRIPTION>\"' # Pick a subscription from above\n",
    "!az account set --subscription $selected_subscription"
   ]
  },
  {
   "cell_type": "code",
   "execution_count": 1,
   "metadata": {
    "collapsed": false
   },
   "outputs": [
    {
     "name": "stdout",
     "output_type": "stream",
     "text": [
      "{\n",
      "  \"environmentName\": \"AzureCloud\",\n",
      "  \"id\": \"edf507a2-6235-46c5-b560-fd463ba2e771\",\n",
      "  \"isDefault\": true,\n",
      "  \"name\": \"Team Danielle Internal\",\n",
      "  \"state\": \"Enabled\",\n",
      "  \"tenantId\": \"72f988bf-86f1-41af-91ab-2d7cd011db47\",\n",
      "  \"user\": {\n",
      "    \"name\": \"gshaheen@microsoft.com\",\n",
      "    \"type\": \"user\"\n",
      "  }\n",
      "}\n"
     ]
    }
   ],
   "source": [
    "!az account show"
   ]
  },
  {
   "cell_type": "markdown",
   "metadata": {},
   "source": [
    "Create a unique string (that has not been chosen by another Azure user). This string can include only lowercase letters and numbers, and must be less than 20 characters in length."
   ]
  },
  {
   "cell_type": "code",
   "execution_count": 21,
   "metadata": {
    "collapsed": false
   },
   "outputs": [
    {
     "name": "stdout",
     "output_type": "stream",
     "text": [
      "shaheendemo2b63\n"
     ]
    }
   ],
   "source": [
    "import uuid\n",
    "unique_string = \"shaheendemo\"  \n",
    "unique_string = unique_string + str(uuid.uuid4())[:4]\n",
    "print(unique_string)  "
   ]
  },
  {
   "cell_type": "code",
   "execution_count": 22,
   "metadata": {
    "collapsed": true
   },
   "outputs": [],
   "source": [
    "RESOURCE_GROUP_NAME = unique_string + 'rg'\n",
    "ADLA_NAME = unique_string + 'adla'\n",
    "ADLS_NAME = unique_string + 'adls'\n",
    "LOCATION = 'Central US'"
   ]
  },
  {
   "cell_type": "code",
   "execution_count": 23,
   "metadata": {
    "collapsed": false
   },
   "outputs": [
    {
     "name": "stdout",
     "output_type": "stream",
     "text": [
      "shaheendemo2b63rg\n",
      "shaheendemo2b63adla\n",
      "shaheendemo2b63adls\n",
      "Central US\n"
     ]
    }
   ],
   "source": [
    "print(RESOURCE_GROUP_NAME)\n",
    "print(ADLA_NAME)\n",
    "print(ADLS_NAME)\n",
    "print(LOCATION)"
   ]
  },
  {
   "cell_type": "code",
   "execution_count": null,
   "metadata": {
    "collapsed": true
   },
   "outputs": [],
   "source": [
    "# To create a new resource group:\n",
    "#az group create --location --name\n",
    "!az group create -n $RESOURCE_GROUP_NAME -l $LOCATION \n",
    "#!az group create --name shaheendemo2b63rg --location \"Central US\""
   ]
  },
  {
   "cell_type": "code",
   "execution_count": null,
   "metadata": {
    "collapsed": true
   },
   "outputs": [],
   "source": [
    "# If you don't already have one create a new Data Lake Store account: \n",
    "# This will be the default data lake store account associated with this adla account\n",
    "!az dls account create --account $ADLS_NAME --resource-group $RESOURCE_GROUP_NAME\n",
    "#!az dls account create --account \"shaheendemo2b63adls\" --resource-group \"shaheendemo2b63rg\""
   ]
  },
  {
   "cell_type": "code",
   "execution_count": null,
   "metadata": {
    "collapsed": true
   },
   "outputs": [],
   "source": [
    "# If you don't already have one create a Data Lake Analytics account:\n",
    "!az dla account create --account $ADLA_NAME --resource-group $RESOURCE_GROUP_NAME --location $LOCATION --default-data-lake-store $ADLS_NAME\n",
    "#!az dla account create --account \"shaheendemo2b63adla\" --resource-group \"shaheendemo2b63rg\" --location \"Central US\" --default-data-lake-store \"shaheendemo2b63adls\""
   ]
  },
  {
   "cell_type": "markdown",
   "metadata": {},
   "source": [
    "**Note**: One additional important step is to install U-SQL Extensions in your ADLA account.  \n",
    "-  Got to azure portal and in the data lake analytics blade, locate and click on Sample Scripts under the GETTING STARTED section in the left-hand menu. (You may need to scroll down or use the search feature.)\n",
    "-  In the Sample Scripts blade, click on Install U-SQL Extensions to install U-SQL Extensions to your account.\n",
    "-  This step will enable R (and Python) extensions to work with ADLA.\n",
    "-  This step may take several minutes to complete."
   ]
  },
  {
   "cell_type": "markdown",
   "metadata": {},
   "source": [
    "Next we will upload the folder ADLSmaterial on our local machine to the folder TutorialMaterial in Data Lake Store. If you haven't changed directory since you cloned the repository the folder ADLSmaterial shoould be in the location below."
   ]
  },
  {
   "cell_type": "code",
   "execution_count": 36,
   "metadata": {
    "collapsed": false
   },
   "outputs": [],
   "source": [
    "path_folderlocal = os.path.join(mycwd, \"ADLAwithR-GettingStarted\",\"Tutorial\",\"ADLSmaterial\")"
   ]
  },
  {
   "cell_type": "code",
   "execution_count": 35,
   "metadata": {
    "collapsed": false
   },
   "outputs": [
    {
     "data": {
      "text/plain": [
       "['dplyrWithDependencies.zip',\n",
       " 'magrittr_1.5.zip',\n",
       " 'myiris.csv',\n",
       " 'myiris_wheader.csv',\n",
       " 'readme.txt',\n",
       " 'Rscript2runlocally_packages.R',\n",
       " 'rscriptEx2.R',\n",
       " 'rscriptEx7b.R',\n",
       " 'rscriptEx8b.R']"
      ]
     },
     "execution_count": 35,
     "metadata": {},
     "output_type": "execute_result"
    }
   ],
   "source": [
    "os.listdir(path_folderlocal)"
   ]
  },
  {
   "cell_type": "code",
   "execution_count": null,
   "metadata": {
    "collapsed": true
   },
   "outputs": [],
   "source": [
    "!az dls fs upload --account $ADLS_NAME --source-path $path_folderlocal --destination-path \"/TutorialMaterial\"    \n",
    "#!az dls fs upload --account shaheendemo2b63adls  --source-path \"C:\\Users\\gshaheen\\Documents\\ADLAwithR-GettingStarted\\Tutorial\\ADLSmaterial\"  --destination-path \"/TutorialMaterial\" \n"
   ]
  },
  {
   "cell_type": "markdown",
   "metadata": {},
   "source": [
    "The command above will create a folder TutorialMaterial in your Data Lake Store and transfer the contents of ADLSmaterial to it. List the files in the folder TutorialMaterial that we created above in your Data Lake Store account."
   ]
  },
  {
   "cell_type": "code",
   "execution_count": null,
   "metadata": {
    "collapsed": true
   },
   "outputs": [],
   "source": [
    "!az dls fs list --account $ADLS_NAME --path /TutorialMaterial"
   ]
  },
  {
   "cell_type": "code",
   "execution_count": 40,
   "metadata": {
    "collapsed": false
   },
   "outputs": [
    {
     "name": "stdout",
     "output_type": "stream",
     "text": [
      "    \"name\": \"TutorialMaterial/base64enc.zip\",\n",
      "    \"name\": \"TutorialMaterial/dplyrWithDependencies.zip\",\n",
      "    \"name\": \"TutorialMaterial/magrittr_1.5.zip\",\n",
      "    \"name\": \"TutorialMaterial/mrsout1.txt\",\n",
      "    \"name\": \"TutorialMaterial/mrsout2.txt\",\n",
      "    \"name\": \"TutorialMaterial/mrsout3.txt\",\n",
      "    \"name\": \"TutorialMaterial/myiris.csv\",\n",
      "    \"name\": \"TutorialMaterial/myiris_wheader.csv\",\n",
      "    \"name\": \"TutorialMaterial/outex1.txt\",\n",
      "    \"name\": \"TutorialMaterial/outex2.txt\",\n",
      "    \"name\": \"TutorialMaterial/outex3a.txt\",\n",
      "    \"name\": \"TutorialMaterial/outex3b.txt\",\n",
      "    \"name\": \"TutorialMaterial/outex4a.txt\",\n",
      "    \"name\": \"TutorialMaterial/outex4b.txt\",\n",
      "    \"name\": \"TutorialMaterial/outex5a.txt\",\n",
      "    \"name\": \"TutorialMaterial/outex5b.txt\",\n",
      "    \"name\": \"TutorialMaterial/outex5c.txt\",\n",
      "    \"name\": \"TutorialMaterial/outex6a.txt\",\n",
      "    \"name\": \"TutorialMaterial/outex6b.txt\",\n",
      "    \"name\": \"TutorialMaterial/outex7a.txt\",\n",
      "    \"name\": \"TutorialMaterial/outex7b.txt\",\n",
      "    \"name\": \"TutorialMaterial/outex8a.txt\",\n",
      "    \"name\": \"TutorialMaterial/outex8b.txt\",\n",
      "    \"name\": \"TutorialMaterial/outex9a.txt\",\n",
      "    \"name\": \"TutorialMaterial/rscriptEx2.R\",\n",
      "    \"name\": \"TutorialMaterial/rscriptEx7b.R\",\n",
      "    \"name\": \"TutorialMaterial/rscriptEx8a.R\",\n"
     ]
    }
   ],
   "source": [
    "!az dls fs list --account shaheenphmadlsdefault --path /TutorialMaterial | grep 'name\":'"
   ]
  }
 ],
 "metadata": {
  "anaconda-cloud": {},
  "kernelspec": {
   "display_name": "Python [default]",
   "language": "python",
   "name": "python3"
  },
  "language_info": {
   "codemirror_mode": {
    "name": "ipython",
    "version": 3
   },
   "file_extension": ".py",
   "mimetype": "text/x-python",
   "name": "python",
   "nbconvert_exporter": "python",
   "pygments_lexer": "ipython3",
   "version": "3.5.2"
  }
 },
 "nbformat": 4,
 "nbformat_minor": 1
}
